{
 "metadata": {
  "name": "",
  "signature": "sha256:0474053dcf6ce7819453344d7e32030f61f3153704cc2829421dcf0f365d2f3c"
 },
 "nbformat": 3,
 "nbformat_minor": 0,
 "worksheets": [
  {
   "cells": [
    {
     "cell_type": "markdown",
     "metadata": {},
     "source": [
      "<h1> Examples of Processing and Loading Yelp's Data</h1>"
     ]
    },
    {
     "cell_type": "code",
     "collapsed": false,
     "input": [
      "# Canonical Imports (Copy and paste these lines in your IPython notebooks for convenience)\n",
      "import numpy as np\n",
      "import pandas as pd\n",
      "import matplotlib.pyplot as plt\n",
      "from pandas import Series, DataFrame\n",
      "\n",
      "%matplotlib inline\n",
      "pd.options.display.mpl_style = 'default'\n",
      "print pd.__version__\n",
      "########################################\n",
      "\n",
      "import os\n",
      "from IPython.core.display import HTML\n",
      "\n",
      "# Using RMagic, you can use R with IPython notebook, but we'll use Python for these set of examples\n",
      "#%load_ext rpy2.ipython"
     ],
     "language": "python",
     "metadata": {},
     "outputs": [
      {
       "output_type": "stream",
       "stream": "stdout",
       "text": [
        "0.15.1\n"
       ]
      }
     ],
     "prompt_number": 2
    },
    {
     "cell_type": "code",
     "collapsed": false,
     "input": [
      "!echo"
     ],
     "language": "python",
     "metadata": {},
     "outputs": [
      {
       "output_type": "stream",
       "stream": "stdout",
       "text": [
        "\r\n"
       ]
      }
     ],
     "prompt_number": 3
    },
    {
     "cell_type": "markdown",
     "metadata": {},
     "source": [
      "<h3> YELP DATASET CHALLENGE URL</h3>\n",
      "<br />\n",
      "This link gives you an idea of the structure of Data Schema: all JSON files with each line as a distinct record\n",
      "<br />\n",
      "http://www.yelp.com/dataset_challenge\n",
      "<br />\n",
      "There are 5 tables:\n",
      "<ol>\n",
      "<li>Business (42,153 records)</li>\n",
      "<li>Review (1,125,458 records)</li>\n",
      "<li>Check ins (31,617 records)</li>\n",
      "<li>Tips (403,210 records)</li>\n",
      "<li>Users (252,898 records)</li>\n",
      "</ol>\n",
      "<br />\n",
      "Further down this notebook, we will see that the Reviews table is a 1GB file that's not easy to load directly into IPython RAM, so we'll chop it up into 4 pieces along the way of our cleaning process."
     ]
    },
    {
     "cell_type": "code",
     "collapsed": false,
     "input": [
      "YELP_DATACHALLENGE_URL = 'http://www.yelp.com/dataset_challenge'\n",
      "tag = '<iframe src=\"{0}\" width=\"1100px\" height=\"333px\">'.format(YELP_DATACHALLENGE_URL)\n",
      "HTML(tag)"
     ],
     "language": "python",
     "metadata": {},
     "outputs": [
      {
       "html": [
        "<iframe src=\"http://www.yelp.com/dataset_challenge\" width=\"1100px\" height=\"333px\">"
       ],
       "metadata": {},
       "output_type": "pyout",
       "prompt_number": 32,
       "text": [
        "<IPython.core.display.HTML at 0x7fbfda6474d0>"
       ]
      }
     ],
     "prompt_number": 32
    },
    {
     "cell_type": "markdown",
     "metadata": {},
     "source": [
      "<h3> Slight Data Wrangling </h3>\n",
      "<br />\n",
      "We need to clean the given files to be interpretable by Panda's JSON function, so we have to\n",
      "<ol>\n",
      "<li> Add a comma after every line of each file</li>\n",
      "<li> Remove the last comma of each file</li>\n",
      "<li> Prepend '[' as the first character of each file</li>\n",
      "<li> Append ']' as the last character of each file</li>\n",
      "</ol>\n",
      "<br />\n",
      "Just make sure you have enough disk space and choose both your raw and clean data folders to store them in."
     ]
    },
    {
     "cell_type": "code",
     "collapsed": false,
     "input": [
      "MY_YELP_JSON_RAW_DATA_DIR = '/media/1ADF-0E69/yelp_dataset_challenge_academic_dataset'\n",
      "MY_YELP_JSON_CLEAN_DATA_DIR = '/media/1ADF-0E69/yelp_dataset_challenge_academic_dataset/Cleaned_Data_Directory'\n",
      "MY_YELP_CSV_DATA_DIR = MY_YELP_JSON_CLEAN_DATA_DIR\n",
      "\n",
      "!mkdir -p $MY_YELP_JSON_CLEAN_DATA_DIR\n",
      "!mkdir -p $MY_YELP_CSV_DATA_DIR\n",
      "!echo MY_YELP_JSON_RAW_DATA_DIR : $MY_YELP_JSON_RAW_DATA_DIR\n",
      "!ls -sh $MY_YELP_JSON_RAW_DATA_DIR\n",
      "!echo\n",
      "!echo MY_YELP_JSON_CLEAN_DATA_DIR : $MY_YELP_JSON_CLEAN_DATA_DIR\n",
      "!ls -sh $MY_YELP_JSON_CLEAN_DATA_DIR\n",
      "!echo\n",
      "!echo MY_YELP_CSV_DATA_DIR : $MY_YELP_CSV_DATA_DIR\n",
      "!ls -sh $MY_YELP_CSV_DATA_DIR"
     ],
     "language": "python",
     "metadata": {},
     "outputs": [
      {
       "output_type": "stream",
       "stream": "stdout",
       "text": [
        "MY_YELP_JSON_RAW_DATA_DIR : /media/1ADF-0E69/yelp_dataset_challenge_academic_dataset\r\n"
       ]
      },
      {
       "output_type": "stream",
       "stream": "stdout",
       "text": [
        "total 2.2G\r\n",
        " 16K Cleaned_Data_Directory\t\t\t       254M yelp_academic_dataset_review_p2.json\r\n",
        "144K Dataset_Challenge_Academic_Dataset_Agreement.pdf  248M yelp_academic_dataset_review_p3.json\r\n",
        " 36M yelp_academic_dataset_business.json\t       254M yelp_academic_dataset_review_p4.json\r\n",
        " 15M yelp_academic_dataset_checkin.json\t\t        76M yelp_academic_dataset_tip.json\r\n",
        "998M yelp_academic_dataset_review.json\t\t       114M yelp_academic_dataset_user.json\r\n",
        "243M yelp_academic_dataset_review_p1.json\t       224K Yelp_Dataset_Challenge_Terms_round_4.pdf\r\n"
       ]
      },
      {
       "output_type": "stream",
       "stream": "stdout",
       "text": [
        "\r\n"
       ]
      },
      {
       "output_type": "stream",
       "stream": "stdout",
       "text": [
        "MY_YELP_JSON_CLEAN_DATA_DIR : /media/1ADF-0E69/yelp_dataset_challenge_academic_dataset/Cleaned_Data_Directory\r\n"
       ]
      },
      {
       "output_type": "stream",
       "stream": "stdout",
       "text": [
        "total 2.4G\r\n",
        " 29M yelp_academic_dataset_business.csv   243M yelp_academic_dataset_review_p1.json   77M yelp_academic_dataset_tip.json\r\n",
        " 36M yelp_academic_dataset_business.json  254M yelp_academic_dataset_review_p2.json  108M yelp_academic_dataset_TURBO_p1.csv\r\n",
        " 15M yelp_academic_dataset_checkin.json   248M yelp_academic_dataset_review_p3.json   64M yelp_academic_dataset_user.csv\r\n",
        "999M yelp_academic_dataset_review.json\t  255M yelp_academic_dataset_review_p4.json  114M yelp_academic_dataset_user.json\r\n"
       ]
      },
      {
       "output_type": "stream",
       "stream": "stdout",
       "text": [
        "\r\n"
       ]
      },
      {
       "output_type": "stream",
       "stream": "stdout",
       "text": [
        "MY_YELP_CSV_DATA_DIR : /media/1ADF-0E69/yelp_dataset_challenge_academic_dataset/Cleaned_Data_Directory\r\n"
       ]
      },
      {
       "output_type": "stream",
       "stream": "stdout",
       "text": [
        "total 2.4G\r\n",
        " 29M yelp_academic_dataset_business.csv   243M yelp_academic_dataset_review_p1.json   77M yelp_academic_dataset_tip.json\r\n",
        " 36M yelp_academic_dataset_business.json  254M yelp_academic_dataset_review_p2.json  108M yelp_academic_dataset_TURBO_p1.csv\r\n",
        " 15M yelp_academic_dataset_checkin.json   248M yelp_academic_dataset_review_p3.json   64M yelp_academic_dataset_user.csv\r\n",
        "999M yelp_academic_dataset_review.json\t  255M yelp_academic_dataset_review_p4.json  114M yelp_academic_dataset_user.json\r\n"
       ]
      }
     ],
     "prompt_number": 1
    },
    {
     "cell_type": "markdown",
     "metadata": {},
     "source": [
      "<br />\n",
      "Also, there are 1125458 reviews, which is a big file, so we can split it in 4 files each with a quarter that amount. \n",
      "<br />"
     ]
    },
    {
     "cell_type": "code",
     "collapsed": false,
     "input": [
      "!head -562729 $MY_YELP_JSON_RAW_DATA_DIR/'yelp_academic_dataset_review.json'  > $MY_YELP_JSON_RAW_DATA_DIR/'yelp_academic_dataset_review_p1.json'\n",
      "!tail -281365 $MY_YELP_JSON_RAW_DATA_DIR/'yelp_academic_dataset_review_p1.json'  > $MY_YELP_JSON_RAW_DATA_DIR/'yelp_academic_dataset_review_p2.json'\n",
      "!head -281364 $MY_YELP_JSON_RAW_DATA_DIR/'yelp_academic_dataset_review.json' > $MY_YELP_JSON_RAW_DATA_DIR/'yelp_academic_dataset_review_p1.json'\n",
      "\n",
      "!tail -562729 $MY_YELP_JSON_RAW_DATA_DIR/'yelp_academic_dataset_review.json'  > $MY_YELP_JSON_RAW_DATA_DIR/'yelp_academic_dataset_review_p3.json'\n",
      "!head -281364 $MY_YELP_JSON_RAW_DATA_DIR/'yelp_academic_dataset_review_p3.json'  > $MY_YELP_JSON_RAW_DATA_DIR/'yelp_academic_dataset_review_p4.json'\n",
      "!tail -281365 $MY_YELP_JSON_RAW_DATA_DIR/'yelp_academic_dataset_review.json'  > $MY_YELP_JSON_RAW_DATA_DIR/'yelp_academic_dataset_review_p3.json'"
     ],
     "language": "python",
     "metadata": {},
     "outputs": [],
     "prompt_number": 4
    },
    {
     "cell_type": "code",
     "collapsed": false,
     "input": [
      "%%bash -s $MY_YELP_JSON_RAW_DATA_DIR $MY_YELP_JSON_CLEAN_DATA_DIR\n",
      "\n",
      "SOURCE_DIR=$1\n",
      "TARGET_DIR=$2\n",
      "\n",
      "echo\n",
      "echo \"RAW DATA: \"\n",
      "echo\n",
      "ls -sh $SOURCE_DIR/*.json\n",
      "\n",
      "#echo\n",
      "#echo \"copying original JSON files into $TARGET_DIR...\"\n",
      "#echo\n",
      "\n",
      "\n",
      "for full_filename in $SOURCE_DIR/*.json ; do \n",
      "    cp $full_filename $TARGET_DIR\n",
      "done\n",
      "\n",
      "#echo\n",
      "#echo \"cleaning the copies of raw data...\"\n",
      "#echo\n",
      "\n",
      "for full_filename in $TARGET_DIR/*.json ; do \n",
      "    sed -i 's/$/,/' $full_filename\n",
      "    sed -i '$ s/,$//' $full_filename\n",
      "    sed -i '1i[' $full_filename\n",
      "    echo ']' >> $full_filename\n",
      "done\n",
      "\n",
      "echo\n",
      "echo \"CLEANED DATA: \"\n",
      "echo\n",
      "ls -sh $TARGET_DIR/*.json"
     ],
     "language": "python",
     "metadata": {},
     "outputs": [
      {
       "output_type": "stream",
       "stream": "stdout",
       "text": [
        "\n",
        "RAW DATA: \n",
        "\n",
        " 36M /media/1ADF-0E69/yelp_dataset_challenge_academic_dataset/yelp_academic_dataset_business.json\n",
        " 15M /media/1ADF-0E69/yelp_dataset_challenge_academic_dataset/yelp_academic_dataset_checkin.json\n",
        "998M /media/1ADF-0E69/yelp_dataset_challenge_academic_dataset/yelp_academic_dataset_review.json\n",
        " 76M /media/1ADF-0E69/yelp_dataset_challenge_academic_dataset/yelp_academic_dataset_tip.json\n",
        "114M /media/1ADF-0E69/yelp_dataset_challenge_academic_dataset/yelp_academic_dataset_user.json\n",
        "\n",
        "CLEANED DATA: \n",
        "\n",
        " 36M /media/1ADF-0E69/yelp_dataset_challenge_academic_dataset/Cleaned_Data_Directory/yelp_academic_dataset_business.json\n",
        " 15M /media/1ADF-0E69/yelp_dataset_challenge_academic_dataset/Cleaned_Data_Directory/yelp_academic_dataset_checkin.json\n",
        "999M /media/1ADF-0E69/yelp_dataset_challenge_academic_dataset/Cleaned_Data_Directory/yelp_academic_dataset_review.json\n",
        " 77M /media/1ADF-0E69/yelp_dataset_challenge_academic_dataset/Cleaned_Data_Directory/yelp_academic_dataset_tip.json\n",
        "114M /media/1ADF-0E69/yelp_dataset_challenge_academic_dataset/Cleaned_Data_Directory/yelp_academic_dataset_user.json\n"
       ]
      }
     ],
     "prompt_number": 201
    },
    {
     "cell_type": "markdown",
     "metadata": {},
     "source": [
      "<h3>Loading a file from your clean data directory</h3>"
     ]
    },
    {
     "cell_type": "code",
     "collapsed": false,
     "input": [
      "business_json_filename = os.path.join(MY_YELP_JSON_CLEAN_DATA_DIR, 'yelp_academic_dataset_business.json')\n",
      "business_DF = pd.io.json.read_json(business_json_filename)\n",
      "business_DF.rename(columns={'name': 'business_name', 'review_count': 'business_review_count', 'stars': 'business_stars'}, inplace=True)"
     ],
     "language": "python",
     "metadata": {},
     "outputs": [],
     "prompt_number": 4
    },
    {
     "cell_type": "code",
     "collapsed": false,
     "input": [
      "user_json_filename = os.path.join(MY_YELP_JSON_CLEAN_DATA_DIR, 'yelp_academic_dataset_user.json')\n",
      "user_DF = pd.io.json.read_json(user_json_filename)\n",
      "user_DF.rename(columns={'name': 'user_name', 'review_count': 'user_review_count', 'votes': 'user_votes'}, inplace=True)"
     ],
     "language": "python",
     "metadata": {},
     "outputs": [],
     "prompt_number": 5
    },
    {
     "cell_type": "code",
     "collapsed": false,
     "input": [
      "review_json_filename = os.path.join(MY_YELP_JSON_CLEAN_DATA_DIR, 'yelp_academic_dataset_review_p1.json')\n",
      "review_DF = pd.io.json.read_json(review_json_filename)\n",
      "review_DF.rename(columns={'stars': 'review_stars', 'text': 'review_text', 'date': 'review_date', 'votes': 'review_votes'}, inplace=True)"
     ],
     "language": "python",
     "metadata": {},
     "outputs": [],
     "prompt_number": 6
    },
    {
     "cell_type": "code",
     "collapsed": false,
     "input": [
      "tip_json_filename = os.path.join(MY_YELP_JSON_CLEAN_DATA_DIR, 'yelp_academic_dataset_tip.json')\n",
      "tip_DF = pd.io.json.read_json(tip_json_filename)\n",
      "tip_DF.rename(columns={'text': 'tip_text', 'date': 'tip_date'}, inplace=True)"
     ],
     "language": "python",
     "metadata": {},
     "outputs": [],
     "prompt_number": 7
    },
    {
     "cell_type": "markdown",
     "metadata": {},
     "source": [
      "<h3>Saving as CSV</h3>"
     ]
    },
    {
     "cell_type": "code",
     "collapsed": false,
     "input": [
      "business_csv_filename = os.path.join(MY_YELP_CSV_DATA_DIR, 'yelp_academic_dataset_business.csv')\n",
      "user_csv_filename = os.path.join(MY_YELP_CSV_DATA_DIR, 'yelp_academic_dataset_user.csv')\n",
      "\n",
      "if not os.path.isfile(business_csv_filename):\n",
      "    business_DF.to_csv(business_csv_filename, index=False, encoding='utf-8')\n",
      "    \n",
      "if not os.path.isfile(user_csv_filename):\n",
      "    user_DF.to_csv(user_csv_filename, index=False, encoding='utf-8')"
     ],
     "language": "python",
     "metadata": {},
     "outputs": [],
     "prompt_number": 16
    },
    {
     "cell_type": "markdown",
     "metadata": {},
     "source": [
      "<h3>Merging DataTables/Frames </h3>"
     ]
    },
    {
     "cell_type": "code",
     "collapsed": false,
     "input": [
      "business_and_review_DF = pd.merge(business_DF, review_DF, on='business_id', how='inner')\n",
      "business_and_user_and_review_DF = pd.merge(business_and_review_DF, user_DF, on ='user_id', how='inner')"
     ],
     "language": "python",
     "metadata": {},
     "outputs": [],
     "prompt_number": 8
    },
    {
     "cell_type": "code",
     "collapsed": false,
     "input": [
      "TURBO_DF = pd.merge(business_and_user_and_review_DF, tip_DF, on=['user_id', 'business_id'], how='inner')\n",
      "TURBO_DF.head()"
     ],
     "language": "python",
     "metadata": {},
     "outputs": [
      {
       "html": [
        "<div style=\"max-height:1000px;max-width:1500px;overflow:auto;\">\n",
        "<table border=\"1\" class=\"dataframe\">\n",
        "  <thead>\n",
        "    <tr style=\"text-align: right;\">\n",
        "      <th></th>\n",
        "      <th>attributes</th>\n",
        "      <th>business_id</th>\n",
        "      <th>categories</th>\n",
        "      <th>city</th>\n",
        "      <th>full_address</th>\n",
        "      <th>hours</th>\n",
        "      <th>latitude</th>\n",
        "      <th>longitude</th>\n",
        "      <th>business_name</th>\n",
        "      <th>neighborhoods</th>\n",
        "      <th>...</th>\n",
        "      <th>friends</th>\n",
        "      <th>user_name</th>\n",
        "      <th>user_review_count</th>\n",
        "      <th>type_x</th>\n",
        "      <th>user_votes</th>\n",
        "      <th>yelping_since</th>\n",
        "      <th>tip_date</th>\n",
        "      <th>likes</th>\n",
        "      <th>tip_text</th>\n",
        "      <th>type_y</th>\n",
        "    </tr>\n",
        "  </thead>\n",
        "  <tbody>\n",
        "    <tr>\n",
        "      <th>0</th>\n",
        "      <td> {u'Alcohol': u'full_bar', u'Noise Level': u'av...</td>\n",
        "      <td> mxrXVZWc6PWk81gvOVNOUw</td>\n",
        "      <td>     [American (Traditional), Restaurants]</td>\n",
        "      <td> Scottsdale</td>\n",
        "      <td> 4800 N Scottsdale Rd\\nSte 1700\\nScottsdale, AZ...</td>\n",
        "      <td> {u'Monday': {u'close': u'23:00', u'open': u'16...</td>\n",
        "      <td> 33.508695</td>\n",
        "      <td>-111.927080</td>\n",
        "      <td>              Roaring Fork</td>\n",
        "      <td> []</td>\n",
        "      <td>...</td>\n",
        "      <td> [5Fd93L51CcW9oiJxPPfgEQ, eKTZv1upkNLR5X2HSNd1f...</td>\n",
        "      <td>     S</td>\n",
        "      <td> 225</td>\n",
        "      <td> user</td>\n",
        "      <td> {u'funny': 36, u'useful': 135, u'cool': 29}</td>\n",
        "      <td> 2011-02</td>\n",
        "      <td>2014-01-10</td>\n",
        "      <td> 0</td>\n",
        "      <td>        One of the best restaurants in Scottsdale.</td>\n",
        "      <td> tip</td>\n",
        "    </tr>\n",
        "    <tr>\n",
        "      <th>1</th>\n",
        "      <td> {u'Alcohol': u'beer_and_wine', u'Noise Level':...</td>\n",
        "      <td> z3yFuLVrmH-3RJruPEMYKw</td>\n",
        "      <td> [Delis, Restaurants, Sandwiches, Italian]</td>\n",
        "      <td> Scottsdale</td>\n",
        "      <td> 2334 N Scottsdale Rd\\nSte A133\\nScottsdale, AZ...</td>\n",
        "      <td> {u'Monday': {u'close': u'21:00', u'open': u'10...</td>\n",
        "      <td> 33.474068</td>\n",
        "      <td>-111.927033</td>\n",
        "      <td> Defalco's Italian Grocery</td>\n",
        "      <td> []</td>\n",
        "      <td>...</td>\n",
        "      <td>                                                []</td>\n",
        "      <td> David</td>\n",
        "      <td>  11</td>\n",
        "      <td> user</td>\n",
        "      <td>    {u'funny': 0, u'useful': 18, u'cool': 4}</td>\n",
        "      <td> 2009-08</td>\n",
        "      <td>2011-09-05</td>\n",
        "      <td> 0</td>\n",
        "      <td> DeFalco's has a new pizza crust recipe, and no...</td>\n",
        "      <td> tip</td>\n",
        "    </tr>\n",
        "    <tr>\n",
        "      <th>2</th>\n",
        "      <td> {u'Alcohol': u'beer_and_wine', u'Noise Level':...</td>\n",
        "      <td> z3yFuLVrmH-3RJruPEMYKw</td>\n",
        "      <td> [Delis, Restaurants, Sandwiches, Italian]</td>\n",
        "      <td> Scottsdale</td>\n",
        "      <td> 2334 N Scottsdale Rd\\nSte A133\\nScottsdale, AZ...</td>\n",
        "      <td> {u'Monday': {u'close': u'21:00', u'open': u'10...</td>\n",
        "      <td> 33.474068</td>\n",
        "      <td>-111.927033</td>\n",
        "      <td> Defalco's Italian Grocery</td>\n",
        "      <td> []</td>\n",
        "      <td>...</td>\n",
        "      <td>                                                []</td>\n",
        "      <td> David</td>\n",
        "      <td>  11</td>\n",
        "      <td> user</td>\n",
        "      <td>    {u'funny': 0, u'useful': 18, u'cool': 4}</td>\n",
        "      <td> 2009-08</td>\n",
        "      <td>2011-10-08</td>\n",
        "      <td> 0</td>\n",
        "      <td> Try the cappacola, hard salami, provolone sand...</td>\n",
        "      <td> tip</td>\n",
        "    </tr>\n",
        "    <tr>\n",
        "      <th>3</th>\n",
        "      <td> {u'Alcohol': u'beer_and_wine', u'Noise Level':...</td>\n",
        "      <td> z3yFuLVrmH-3RJruPEMYKw</td>\n",
        "      <td> [Delis, Restaurants, Sandwiches, Italian]</td>\n",
        "      <td> Scottsdale</td>\n",
        "      <td> 2334 N Scottsdale Rd\\nSte A133\\nScottsdale, AZ...</td>\n",
        "      <td> {u'Monday': {u'close': u'21:00', u'open': u'10...</td>\n",
        "      <td> 33.474068</td>\n",
        "      <td>-111.927033</td>\n",
        "      <td> Defalco's Italian Grocery</td>\n",
        "      <td> []</td>\n",
        "      <td>...</td>\n",
        "      <td>                                                []</td>\n",
        "      <td> David</td>\n",
        "      <td>  11</td>\n",
        "      <td> user</td>\n",
        "      <td>    {u'funny': 0, u'useful': 18, u'cool': 4}</td>\n",
        "      <td> 2009-08</td>\n",
        "      <td>2013-06-30</td>\n",
        "      <td> 0</td>\n",
        "      <td> DeFalco's just introduced some great new dinne...</td>\n",
        "      <td> tip</td>\n",
        "    </tr>\n",
        "    <tr>\n",
        "      <th>4</th>\n",
        "      <td> {u'Alcohol': u'beer_and_wine', u'Noise Level':...</td>\n",
        "      <td> z3yFuLVrmH-3RJruPEMYKw</td>\n",
        "      <td> [Delis, Restaurants, Sandwiches, Italian]</td>\n",
        "      <td> Scottsdale</td>\n",
        "      <td> 2334 N Scottsdale Rd\\nSte A133\\nScottsdale, AZ...</td>\n",
        "      <td> {u'Monday': {u'close': u'21:00', u'open': u'10...</td>\n",
        "      <td> 33.474068</td>\n",
        "      <td>-111.927033</td>\n",
        "      <td> Defalco's Italian Grocery</td>\n",
        "      <td> []</td>\n",
        "      <td>...</td>\n",
        "      <td>                                                []</td>\n",
        "      <td> David</td>\n",
        "      <td>  11</td>\n",
        "      <td> user</td>\n",
        "      <td>    {u'funny': 0, u'useful': 18, u'cool': 4}</td>\n",
        "      <td> 2009-08</td>\n",
        "      <td>2011-09-05</td>\n",
        "      <td> 0</td>\n",
        "      <td> DeFalco's has a new pizza crust recipe, and no...</td>\n",
        "      <td> tip</td>\n",
        "    </tr>\n",
        "  </tbody>\n",
        "</table>\n",
        "<p>5 rows \u00d7 36 columns</p>\n",
        "</div>"
       ],
       "metadata": {},
       "output_type": "pyout",
       "prompt_number": 9,
       "text": [
        "                                          attributes             business_id  \\\n",
        "0  {u'Alcohol': u'full_bar', u'Noise Level': u'av...  mxrXVZWc6PWk81gvOVNOUw   \n",
        "1  {u'Alcohol': u'beer_and_wine', u'Noise Level':...  z3yFuLVrmH-3RJruPEMYKw   \n",
        "2  {u'Alcohol': u'beer_and_wine', u'Noise Level':...  z3yFuLVrmH-3RJruPEMYKw   \n",
        "3  {u'Alcohol': u'beer_and_wine', u'Noise Level':...  z3yFuLVrmH-3RJruPEMYKw   \n",
        "4  {u'Alcohol': u'beer_and_wine', u'Noise Level':...  z3yFuLVrmH-3RJruPEMYKw   \n",
        "\n",
        "                                  categories        city  \\\n",
        "0      [American (Traditional), Restaurants]  Scottsdale   \n",
        "1  [Delis, Restaurants, Sandwiches, Italian]  Scottsdale   \n",
        "2  [Delis, Restaurants, Sandwiches, Italian]  Scottsdale   \n",
        "3  [Delis, Restaurants, Sandwiches, Italian]  Scottsdale   \n",
        "4  [Delis, Restaurants, Sandwiches, Italian]  Scottsdale   \n",
        "\n",
        "                                        full_address  \\\n",
        "0  4800 N Scottsdale Rd\\nSte 1700\\nScottsdale, AZ...   \n",
        "1  2334 N Scottsdale Rd\\nSte A133\\nScottsdale, AZ...   \n",
        "2  2334 N Scottsdale Rd\\nSte A133\\nScottsdale, AZ...   \n",
        "3  2334 N Scottsdale Rd\\nSte A133\\nScottsdale, AZ...   \n",
        "4  2334 N Scottsdale Rd\\nSte A133\\nScottsdale, AZ...   \n",
        "\n",
        "                                               hours   latitude   longitude  \\\n",
        "0  {u'Monday': {u'close': u'23:00', u'open': u'16...  33.508695 -111.927080   \n",
        "1  {u'Monday': {u'close': u'21:00', u'open': u'10...  33.474068 -111.927033   \n",
        "2  {u'Monday': {u'close': u'21:00', u'open': u'10...  33.474068 -111.927033   \n",
        "3  {u'Monday': {u'close': u'21:00', u'open': u'10...  33.474068 -111.927033   \n",
        "4  {u'Monday': {u'close': u'21:00', u'open': u'10...  33.474068 -111.927033   \n",
        "\n",
        "               business_name neighborhoods  ...    \\\n",
        "0               Roaring Fork            []  ...     \n",
        "1  Defalco's Italian Grocery            []  ...     \n",
        "2  Defalco's Italian Grocery            []  ...     \n",
        "3  Defalco's Italian Grocery            []  ...     \n",
        "4  Defalco's Italian Grocery            []  ...     \n",
        "\n",
        "                                             friends  user_name  \\\n",
        "0  [5Fd93L51CcW9oiJxPPfgEQ, eKTZv1upkNLR5X2HSNd1f...          S   \n",
        "1                                                 []      David   \n",
        "2                                                 []      David   \n",
        "3                                                 []      David   \n",
        "4                                                 []      David   \n",
        "\n",
        "   user_review_count type_x                                   user_votes  \\\n",
        "0                225   user  {u'funny': 36, u'useful': 135, u'cool': 29}   \n",
        "1                 11   user     {u'funny': 0, u'useful': 18, u'cool': 4}   \n",
        "2                 11   user     {u'funny': 0, u'useful': 18, u'cool': 4}   \n",
        "3                 11   user     {u'funny': 0, u'useful': 18, u'cool': 4}   \n",
        "4                 11   user     {u'funny': 0, u'useful': 18, u'cool': 4}   \n",
        "\n",
        "  yelping_since   tip_date  likes  \\\n",
        "0       2011-02 2014-01-10      0   \n",
        "1       2009-08 2011-09-05      0   \n",
        "2       2009-08 2011-10-08      0   \n",
        "3       2009-08 2013-06-30      0   \n",
        "4       2009-08 2011-09-05      0   \n",
        "\n",
        "                                            tip_text type_y  \n",
        "0         One of the best restaurants in Scottsdale.    tip  \n",
        "1  DeFalco's has a new pizza crust recipe, and no...    tip  \n",
        "2  Try the cappacola, hard salami, provolone sand...    tip  \n",
        "3  DeFalco's just introduced some great new dinne...    tip  \n",
        "4  DeFalco's has a new pizza crust recipe, and no...    tip  \n",
        "\n",
        "[5 rows x 36 columns]"
       ]
      }
     ],
     "prompt_number": 9
    },
    {
     "cell_type": "markdown",
     "metadata": {},
     "source": [
      "<h3>Discarding unused Python variables that take too much RAM</h3>\n",
      "<br />\n",
      "Use the xdel or reset_selective magics (takes awhile as well)"
     ]
    },
    {
     "cell_type": "code",
     "collapsed": false,
     "input": [
      "%xdel business_and_review_DF"
     ],
     "language": "python",
     "metadata": {},
     "outputs": [],
     "prompt_number": 9
    },
    {
     "cell_type": "code",
     "collapsed": false,
     "input": [
      "%reset_selective business_and_user_and_review_DF"
     ],
     "language": "python",
     "metadata": {},
     "outputs": [
      {
       "name": "stdout",
       "output_type": "stream",
       "stream": "stdout",
       "text": [
        "Once deleted, variables cannot be recovered. Proceed (y/[n])?  y\n"
       ]
      }
     ],
     "prompt_number": 10
    },
    {
     "cell_type": "code",
     "collapsed": false,
     "input": [
      "%reset_selective business_DF\n",
      "%reset_selective user_DF\n",
      "%reset_selective review_DF\n",
      "%reset_selective tip_DF"
     ],
     "language": "python",
     "metadata": {},
     "outputs": [
      {
       "name": "stdout",
       "output_type": "stream",
       "stream": "stdout",
       "text": [
        "Once deleted, variables cannot be recovered. Proceed (y/[n])?  y\n"
       ]
      },
      {
       "name": "stdout",
       "output_type": "stream",
       "stream": "stdout",
       "text": [
        "Once deleted, variables cannot be recovered. Proceed (y/[n])?  y\n"
       ]
      },
      {
       "name": "stdout",
       "output_type": "stream",
       "stream": "stdout",
       "text": [
        "Once deleted, variables cannot be recovered. Proceed (y/[n])?  y\n"
       ]
      },
      {
       "name": "stdout",
       "output_type": "stream",
       "stream": "stdout",
       "text": [
        "Once deleted, variables cannot be recovered. Proceed (y/[n])?  y\n"
       ]
      }
     ],
     "prompt_number": 11
    },
    {
     "cell_type": "markdown",
     "metadata": {},
     "source": [
      "<h3>Saving a merged DataFrame with 562,729 reviews to a CSV file turns out to take too much disk space</h3>"
     ]
    },
    {
     "cell_type": "code",
     "collapsed": false,
     "input": [
      "#business_and_user_and_review_and_tip_csv_filename = os.path.join(MY_YELP_CSV_DATA_DIR, 'BUR_p1.csv')\n",
      "\n",
      "#if not os.path.isfile(business_and_user_and_review_and_tip_csv_filename):\n",
      "#    business_and_user_and_review_DF.to_csv(business_and_user_and_review_and_tip_csv_filename, index=False, encoding='utf-8')"
     ],
     "language": "python",
     "metadata": {},
     "outputs": [],
     "prompt_number": 9
    },
    {
     "cell_type": "markdown",
     "metadata": {},
     "source": [
      "<h3>We'll save a merged DataFrame with 36,824 reviews (including Tip records) instead and name it TURBO</h3>"
     ]
    },
    {
     "cell_type": "code",
     "collapsed": false,
     "input": [
      "TURBO_csv_filename = os.path.join(MY_YELP_CSV_DATA_DIR, 'TURBO_p1.csv')\n",
      "\n",
      "if not os.path.isfile(TURBO_csv_filename):\n",
      "    TURBO_DF.to_csv(TURBO_csv_filename, index=False, encoding='utf-8')\n",
      "else:\n",
      "    TURBO_DF = pd.read_csv(TURBO_csv_filename)\n",
      "    \n",
      "!ls -sh $TURBO_csv_filename"
     ],
     "language": "python",
     "metadata": {},
     "outputs": [
      {
       "output_type": "stream",
       "stream": "stdout",
       "text": [
        "108M /media/1ADF-0E69/yelp_dataset_challenge_academic_dataset/Cleaned_Data_Directory/TURBO_p1.csv\r\n"
       ]
      }
     ],
     "prompt_number": 12
    },
    {
     "cell_type": "code",
     "collapsed": false,
     "input": [
      "print TURBO_DF.columns\n",
      "TURBO_DF.describe()"
     ],
     "language": "python",
     "metadata": {},
     "outputs": [
      {
       "output_type": "stream",
       "stream": "stdout",
       "text": [
        "Index([u'attributes', u'business_id', u'categories', u'city', u'full_address', u'hours', u'latitude', u'longitude', u'business_name', u'neighborhoods', u'open', u'business_review_count', u'business_stars', u'state', u'type_x', u'review_date', u'review_id', u'review_stars', u'review_text', u'type_y', u'user_id', u'review_votes', u'average_stars', u'compliments', u'elite', u'fans', u'friends', u'user_name', u'user_review_count', u'type_x', u'user_votes', u'yelping_since', u'tip_date', u'likes', u'tip_text', u'type_y'], dtype='object')\n"
       ]
      },
      {
       "html": [
        "<div style=\"max-height:1000px;max-width:1500px;overflow:auto;\">\n",
        "<table border=\"1\" class=\"dataframe\">\n",
        "  <thead>\n",
        "    <tr style=\"text-align: right;\">\n",
        "      <th></th>\n",
        "      <th>latitude</th>\n",
        "      <th>longitude</th>\n",
        "      <th>open</th>\n",
        "      <th>business_review_count</th>\n",
        "      <th>business_stars</th>\n",
        "      <th>review_stars</th>\n",
        "      <th>average_stars</th>\n",
        "      <th>fans</th>\n",
        "      <th>user_review_count</th>\n",
        "      <th>likes</th>\n",
        "    </tr>\n",
        "  </thead>\n",
        "  <tbody>\n",
        "    <tr>\n",
        "      <th>count</th>\n",
        "      <td> 36824.000000</td>\n",
        "      <td> 36824.000000</td>\n",
        "      <td>     36824</td>\n",
        "      <td> 36824.000000</td>\n",
        "      <td> 36824.000000</td>\n",
        "      <td> 36824.000000</td>\n",
        "      <td> 36824.000000</td>\n",
        "      <td> 36824.000000</td>\n",
        "      <td> 36824.000000</td>\n",
        "      <td> 36824.000000</td>\n",
        "    </tr>\n",
        "    <tr>\n",
        "      <th>mean</th>\n",
        "      <td>    35.013344</td>\n",
        "      <td>  -112.719167</td>\n",
        "      <td> 0.9492179</td>\n",
        "      <td>   258.550945</td>\n",
        "      <td>     3.669509</td>\n",
        "      <td>     3.991419</td>\n",
        "      <td>     3.839534</td>\n",
        "      <td>    14.233299</td>\n",
        "      <td>   188.031148</td>\n",
        "      <td>     0.015289</td>\n",
        "    </tr>\n",
        "    <tr>\n",
        "      <th>std</th>\n",
        "      <td>     1.967549</td>\n",
        "      <td>     4.554340</td>\n",
        "      <td> 0.2195554</td>\n",
        "      <td>   427.695402</td>\n",
        "      <td>     0.607314</td>\n",
        "      <td>     1.148049</td>\n",
        "      <td>     0.519876</td>\n",
        "      <td>    44.527880</td>\n",
        "      <td>   297.834004</td>\n",
        "      <td>     0.143890</td>\n",
        "    </tr>\n",
        "    <tr>\n",
        "      <th>min</th>\n",
        "      <td>    32.877381</td>\n",
        "      <td>  -115.335063</td>\n",
        "      <td>     False</td>\n",
        "      <td>     3.000000</td>\n",
        "      <td>     1.000000</td>\n",
        "      <td>     1.000000</td>\n",
        "      <td>     0.000000</td>\n",
        "      <td>     0.000000</td>\n",
        "      <td>     1.000000</td>\n",
        "      <td>     0.000000</td>\n",
        "    </tr>\n",
        "    <tr>\n",
        "      <th>25%</th>\n",
        "      <td>    33.483223</td>\n",
        "      <td>  -115.160359</td>\n",
        "      <td>         1</td>\n",
        "      <td>    25.000000</td>\n",
        "      <td>     3.500000</td>\n",
        "      <td>     4.000000</td>\n",
        "      <td>     3.600000</td>\n",
        "      <td>     0.000000</td>\n",
        "      <td>    21.000000</td>\n",
        "      <td>     0.000000</td>\n",
        "    </tr>\n",
        "    <tr>\n",
        "      <th>50%</th>\n",
        "      <td>    33.764449</td>\n",
        "      <td>  -112.190516</td>\n",
        "      <td>         1</td>\n",
        "      <td>    79.000000</td>\n",
        "      <td>     3.500000</td>\n",
        "      <td>     4.000000</td>\n",
        "      <td>     3.860000</td>\n",
        "      <td>     2.000000</td>\n",
        "      <td>    85.000000</td>\n",
        "      <td>     0.000000</td>\n",
        "    </tr>\n",
        "    <tr>\n",
        "      <th>75%</th>\n",
        "      <td>    36.125908</td>\n",
        "      <td>  -111.939290</td>\n",
        "      <td>         1</td>\n",
        "      <td>   270.000000</td>\n",
        "      <td>     4.000000</td>\n",
        "      <td>     5.000000</td>\n",
        "      <td>     4.110000</td>\n",
        "      <td>    10.000000</td>\n",
        "      <td>   209.000000</td>\n",
        "      <td>     0.000000</td>\n",
        "    </tr>\n",
        "    <tr>\n",
        "      <th>max</th>\n",
        "      <td>    43.252267</td>\n",
        "      <td>   -89.200370</td>\n",
        "      <td>      True</td>\n",
        "      <td>  2019.000000</td>\n",
        "      <td>     5.000000</td>\n",
        "      <td>     5.000000</td>\n",
        "      <td>     5.000000</td>\n",
        "      <td>  1109.000000</td>\n",
        "      <td>  3790.000000</td>\n",
        "      <td>     4.000000</td>\n",
        "    </tr>\n",
        "  </tbody>\n",
        "</table>\n",
        "</div>"
       ],
       "metadata": {},
       "output_type": "pyout",
       "prompt_number": 11,
       "text": [
        "           latitude     longitude       open  business_review_count  \\\n",
        "count  36824.000000  36824.000000      36824           36824.000000   \n",
        "mean      35.013344   -112.719167  0.9492179             258.550945   \n",
        "std        1.967549      4.554340  0.2195554             427.695402   \n",
        "min       32.877381   -115.335063      False               3.000000   \n",
        "25%       33.483223   -115.160359          1              25.000000   \n",
        "50%       33.764449   -112.190516          1              79.000000   \n",
        "75%       36.125908   -111.939290          1             270.000000   \n",
        "max       43.252267    -89.200370       True            2019.000000   \n",
        "\n",
        "       business_stars  review_stars  average_stars          fans  \\\n",
        "count    36824.000000  36824.000000   36824.000000  36824.000000   \n",
        "mean         3.669509      3.991419       3.839534     14.233299   \n",
        "std          0.607314      1.148049       0.519876     44.527880   \n",
        "min          1.000000      1.000000       0.000000      0.000000   \n",
        "25%          3.500000      4.000000       3.600000      0.000000   \n",
        "50%          3.500000      4.000000       3.860000      2.000000   \n",
        "75%          4.000000      5.000000       4.110000     10.000000   \n",
        "max          5.000000      5.000000       5.000000   1109.000000   \n",
        "\n",
        "       user_review_count         likes  \n",
        "count       36824.000000  36824.000000  \n",
        "mean          188.031148      0.015289  \n",
        "std           297.834004      0.143890  \n",
        "min             1.000000      0.000000  \n",
        "25%            21.000000      0.000000  \n",
        "50%            85.000000      0.000000  \n",
        "75%           209.000000      0.000000  \n",
        "max          3790.000000      4.000000  "
       ]
      }
     ],
     "prompt_number": 11
    },
    {
     "cell_type": "markdown",
     "metadata": {},
     "source": [
      "TURBO is an acroynym that describes the data containing a subset from the following tables: <b>T</b>ip, <b>U</b>ser, <b>R</b>eview, <b>B</b>usiness <b>O</b>nly"
     ]
    },
    {
     "cell_type": "code",
     "collapsed": false,
     "input": [],
     "language": "python",
     "metadata": {},
     "outputs": [],
     "prompt_number": 0
    }
   ],
   "metadata": {}
  }
 ]
}